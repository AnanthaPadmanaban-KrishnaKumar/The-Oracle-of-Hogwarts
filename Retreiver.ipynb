{
  "nbformat": 4,
  "nbformat_minor": 0,
  "metadata": {
    "colab": {
      "provenance": [],
      "gpuType": "T4"
    },
    "kernelspec": {
      "name": "python3",
      "display_name": "Python 3"
    },
    "language_info": {
      "name": "python"
    },
    "accelerator": "GPU",
    "widgets": {
      "application/vnd.jupyter.widget-state+json": {
        "a4d22720191343b4afeab47e79c7530b": {
          "model_module": "@jupyter-widgets/controls",
          "model_name": "HBoxModel",
          "model_module_version": "1.5.0",
          "state": {
            "_dom_classes": [],
            "_model_module": "@jupyter-widgets/controls",
            "_model_module_version": "1.5.0",
            "_model_name": "HBoxModel",
            "_view_count": null,
            "_view_module": "@jupyter-widgets/controls",
            "_view_module_version": "1.5.0",
            "_view_name": "HBoxView",
            "box_style": "",
            "children": [
              "IPY_MODEL_dec03853b1764cc2a0682ce9697fa925",
              "IPY_MODEL_8d1275f2017f4b60b4642aa1b4d749ac",
              "IPY_MODEL_1724adb3b52b411993f0941c4c54b970"
            ],
            "layout": "IPY_MODEL_3abbe8aa2d8947ae84a96e26ae03c08b"
          }
        },
        "dec03853b1764cc2a0682ce9697fa925": {
          "model_module": "@jupyter-widgets/controls",
          "model_name": "HTMLModel",
          "model_module_version": "1.5.0",
          "state": {
            "_dom_classes": [],
            "_model_module": "@jupyter-widgets/controls",
            "_model_module_version": "1.5.0",
            "_model_name": "HTMLModel",
            "_view_count": null,
            "_view_module": "@jupyter-widgets/controls",
            "_view_module_version": "1.5.0",
            "_view_name": "HTMLView",
            "description": "",
            "description_tooltip": null,
            "layout": "IPY_MODEL_ebbe929c557842cc888d95a1eee0c39f",
            "placeholder": "​",
            "style": "IPY_MODEL_12ad278f7b8a4260a97d64d075271fbe",
            "value": "100%"
          }
        },
        "8d1275f2017f4b60b4642aa1b4d749ac": {
          "model_module": "@jupyter-widgets/controls",
          "model_name": "FloatProgressModel",
          "model_module_version": "1.5.0",
          "state": {
            "_dom_classes": [],
            "_model_module": "@jupyter-widgets/controls",
            "_model_module_version": "1.5.0",
            "_model_name": "FloatProgressModel",
            "_view_count": null,
            "_view_module": "@jupyter-widgets/controls",
            "_view_module_version": "1.5.0",
            "_view_name": "ProgressView",
            "bar_style": "success",
            "description": "",
            "description_tooltip": null,
            "layout": "IPY_MODEL_68f5b821bdb543439024d125b5a616f9",
            "max": 91,
            "min": 0,
            "orientation": "horizontal",
            "style": "IPY_MODEL_41d023da41224a0a9c00328c3ea01e8c",
            "value": 91
          }
        },
        "1724adb3b52b411993f0941c4c54b970": {
          "model_module": "@jupyter-widgets/controls",
          "model_name": "HTMLModel",
          "model_module_version": "1.5.0",
          "state": {
            "_dom_classes": [],
            "_model_module": "@jupyter-widgets/controls",
            "_model_module_version": "1.5.0",
            "_model_name": "HTMLModel",
            "_view_count": null,
            "_view_module": "@jupyter-widgets/controls",
            "_view_module_version": "1.5.0",
            "_view_name": "HTMLView",
            "description": "",
            "description_tooltip": null,
            "layout": "IPY_MODEL_0e4486bfe1e94ce0a94afdd3a0f919ac",
            "placeholder": "​",
            "style": "IPY_MODEL_7da81cf3b44e4bdab86de109e2815031",
            "value": " 91/91 [06:37&lt;00:00,  3.83s/it]"
          }
        },
        "3abbe8aa2d8947ae84a96e26ae03c08b": {
          "model_module": "@jupyter-widgets/base",
          "model_name": "LayoutModel",
          "model_module_version": "1.2.0",
          "state": {
            "_model_module": "@jupyter-widgets/base",
            "_model_module_version": "1.2.0",
            "_model_name": "LayoutModel",
            "_view_count": null,
            "_view_module": "@jupyter-widgets/base",
            "_view_module_version": "1.2.0",
            "_view_name": "LayoutView",
            "align_content": null,
            "align_items": null,
            "align_self": null,
            "border": null,
            "bottom": null,
            "display": null,
            "flex": null,
            "flex_flow": null,
            "grid_area": null,
            "grid_auto_columns": null,
            "grid_auto_flow": null,
            "grid_auto_rows": null,
            "grid_column": null,
            "grid_gap": null,
            "grid_row": null,
            "grid_template_areas": null,
            "grid_template_columns": null,
            "grid_template_rows": null,
            "height": null,
            "justify_content": null,
            "justify_items": null,
            "left": null,
            "margin": null,
            "max_height": null,
            "max_width": null,
            "min_height": null,
            "min_width": null,
            "object_fit": null,
            "object_position": null,
            "order": null,
            "overflow": null,
            "overflow_x": null,
            "overflow_y": null,
            "padding": null,
            "right": null,
            "top": null,
            "visibility": null,
            "width": null
          }
        },
        "ebbe929c557842cc888d95a1eee0c39f": {
          "model_module": "@jupyter-widgets/base",
          "model_name": "LayoutModel",
          "model_module_version": "1.2.0",
          "state": {
            "_model_module": "@jupyter-widgets/base",
            "_model_module_version": "1.2.0",
            "_model_name": "LayoutModel",
            "_view_count": null,
            "_view_module": "@jupyter-widgets/base",
            "_view_module_version": "1.2.0",
            "_view_name": "LayoutView",
            "align_content": null,
            "align_items": null,
            "align_self": null,
            "border": null,
            "bottom": null,
            "display": null,
            "flex": null,
            "flex_flow": null,
            "grid_area": null,
            "grid_auto_columns": null,
            "grid_auto_flow": null,
            "grid_auto_rows": null,
            "grid_column": null,
            "grid_gap": null,
            "grid_row": null,
            "grid_template_areas": null,
            "grid_template_columns": null,
            "grid_template_rows": null,
            "height": null,
            "justify_content": null,
            "justify_items": null,
            "left": null,
            "margin": null,
            "max_height": null,
            "max_width": null,
            "min_height": null,
            "min_width": null,
            "object_fit": null,
            "object_position": null,
            "order": null,
            "overflow": null,
            "overflow_x": null,
            "overflow_y": null,
            "padding": null,
            "right": null,
            "top": null,
            "visibility": null,
            "width": null
          }
        },
        "12ad278f7b8a4260a97d64d075271fbe": {
          "model_module": "@jupyter-widgets/controls",
          "model_name": "DescriptionStyleModel",
          "model_module_version": "1.5.0",
          "state": {
            "_model_module": "@jupyter-widgets/controls",
            "_model_module_version": "1.5.0",
            "_model_name": "DescriptionStyleModel",
            "_view_count": null,
            "_view_module": "@jupyter-widgets/base",
            "_view_module_version": "1.2.0",
            "_view_name": "StyleView",
            "description_width": ""
          }
        },
        "68f5b821bdb543439024d125b5a616f9": {
          "model_module": "@jupyter-widgets/base",
          "model_name": "LayoutModel",
          "model_module_version": "1.2.0",
          "state": {
            "_model_module": "@jupyter-widgets/base",
            "_model_module_version": "1.2.0",
            "_model_name": "LayoutModel",
            "_view_count": null,
            "_view_module": "@jupyter-widgets/base",
            "_view_module_version": "1.2.0",
            "_view_name": "LayoutView",
            "align_content": null,
            "align_items": null,
            "align_self": null,
            "border": null,
            "bottom": null,
            "display": null,
            "flex": null,
            "flex_flow": null,
            "grid_area": null,
            "grid_auto_columns": null,
            "grid_auto_flow": null,
            "grid_auto_rows": null,
            "grid_column": null,
            "grid_gap": null,
            "grid_row": null,
            "grid_template_areas": null,
            "grid_template_columns": null,
            "grid_template_rows": null,
            "height": null,
            "justify_content": null,
            "justify_items": null,
            "left": null,
            "margin": null,
            "max_height": null,
            "max_width": null,
            "min_height": null,
            "min_width": null,
            "object_fit": null,
            "object_position": null,
            "order": null,
            "overflow": null,
            "overflow_x": null,
            "overflow_y": null,
            "padding": null,
            "right": null,
            "top": null,
            "visibility": null,
            "width": null
          }
        },
        "41d023da41224a0a9c00328c3ea01e8c": {
          "model_module": "@jupyter-widgets/controls",
          "model_name": "ProgressStyleModel",
          "model_module_version": "1.5.0",
          "state": {
            "_model_module": "@jupyter-widgets/controls",
            "_model_module_version": "1.5.0",
            "_model_name": "ProgressStyleModel",
            "_view_count": null,
            "_view_module": "@jupyter-widgets/base",
            "_view_module_version": "1.2.0",
            "_view_name": "StyleView",
            "bar_color": null,
            "description_width": ""
          }
        },
        "0e4486bfe1e94ce0a94afdd3a0f919ac": {
          "model_module": "@jupyter-widgets/base",
          "model_name": "LayoutModel",
          "model_module_version": "1.2.0",
          "state": {
            "_model_module": "@jupyter-widgets/base",
            "_model_module_version": "1.2.0",
            "_model_name": "LayoutModel",
            "_view_count": null,
            "_view_module": "@jupyter-widgets/base",
            "_view_module_version": "1.2.0",
            "_view_name": "LayoutView",
            "align_content": null,
            "align_items": null,
            "align_self": null,
            "border": null,
            "bottom": null,
            "display": null,
            "flex": null,
            "flex_flow": null,
            "grid_area": null,
            "grid_auto_columns": null,
            "grid_auto_flow": null,
            "grid_auto_rows": null,
            "grid_column": null,
            "grid_gap": null,
            "grid_row": null,
            "grid_template_areas": null,
            "grid_template_columns": null,
            "grid_template_rows": null,
            "height": null,
            "justify_content": null,
            "justify_items": null,
            "left": null,
            "margin": null,
            "max_height": null,
            "max_width": null,
            "min_height": null,
            "min_width": null,
            "object_fit": null,
            "object_position": null,
            "order": null,
            "overflow": null,
            "overflow_x": null,
            "overflow_y": null,
            "padding": null,
            "right": null,
            "top": null,
            "visibility": null,
            "width": null
          }
        },
        "7da81cf3b44e4bdab86de109e2815031": {
          "model_module": "@jupyter-widgets/controls",
          "model_name": "DescriptionStyleModel",
          "model_module_version": "1.5.0",
          "state": {
            "_model_module": "@jupyter-widgets/controls",
            "_model_module_version": "1.5.0",
            "_model_name": "DescriptionStyleModel",
            "_view_count": null,
            "_view_module": "@jupyter-widgets/base",
            "_view_module_version": "1.2.0",
            "_view_name": "StyleView",
            "description_width": ""
          }
        }
      }
    }
  },
  "cells": [
    {
      "cell_type": "code",
      "source": [
        "from google.colab import drive\n",
        "drive.mount('/content/drive')"
      ],
      "metadata": {
        "colab": {
          "base_uri": "https://localhost:8080/"
        },
        "id": "maSz4q7tFf-q",
        "outputId": "19119c75-beef-4265-d6fc-1dc82b234259"
      },
      "execution_count": 2,
      "outputs": [
        {
          "output_type": "stream",
          "name": "stdout",
          "text": [
            "Drive already mounted at /content/drive; to attempt to forcibly remount, call drive.mount(\"/content/drive\", force_remount=True).\n"
          ]
        }
      ]
    },
    {
      "cell_type": "code",
      "execution_count": 19,
      "metadata": {
        "colab": {
          "base_uri": "https://localhost:8080/"
        },
        "id": "fU5pJQ0-CnSP",
        "outputId": "65c5b9a1-1494-4766-d82e-5d8bcda35606"
      },
      "outputs": [
        {
          "output_type": "stream",
          "name": "stdout",
          "text": [
            "\u001b[?25l     \u001b[90m━━━━━━━━━━━━━━━━━━━━━━━━━━━━━━━━━━━━━━━━\u001b[0m \u001b[32m0.0/290.4 kB\u001b[0m \u001b[31m?\u001b[0m eta \u001b[36m-:--:--\u001b[0m\r\u001b[2K     \u001b[91m━━━━━━━━━━━━━━━━━━━\u001b[0m\u001b[91m╸\u001b[0m\u001b[90m━━━━━━━━━━━━━━━━━━━━\u001b[0m \u001b[32m143.4/290.4 kB\u001b[0m \u001b[31m4.1 MB/s\u001b[0m eta \u001b[36m0:00:01\u001b[0m\r\u001b[2K     \u001b[90m━━━━━━━━━━━━━━━━━━━━━━━━━━━━━━━━━━━━━━━━\u001b[0m \u001b[32m290.4/290.4 kB\u001b[0m \u001b[31m4.7 MB/s\u001b[0m eta \u001b[36m0:00:00\u001b[0m\n",
            "\u001b[?25h"
          ]
        }
      ],
      "source": [
        "!pip install -q -U langchain-community pinecone-client openai tqdm python-dotenv pypdf"
      ]
    },
    {
      "cell_type": "code",
      "source": [
        "from langchain.text_splitter import RecursiveCharacterTextSplitter\n",
        "from langchain_community.document_loaders import PyPDFDirectoryLoader\n",
        "\n",
        "from pinecone.grpc import PineconeGRPC as pinecone\n",
        "from pinecone import ServerlessSpec\n",
        "\n",
        "from openai import OpenAI\n",
        "from tqdm.auto import tqdm\n",
        "\n",
        "import os\n",
        "import getpass"
      ],
      "metadata": {
        "id": "GCtOzz1RCsvG"
      },
      "execution_count": 13,
      "outputs": []
    },
    {
      "cell_type": "code",
      "source": [
        "pinecone_api_key = getpass.getpass(\"Enter Pinecone API key: \")"
      ],
      "metadata": {
        "colab": {
          "base_uri": "https://localhost:8080/"
        },
        "id": "cSb4d62jDwPI",
        "outputId": "3bb2f041-78c0-41dd-dba6-523ab5a4e50a"
      },
      "execution_count": 14,
      "outputs": [
        {
          "name": "stdout",
          "output_type": "stream",
          "text": [
            "Enter Pinecone API key: ··········\n"
          ]
        }
      ]
    },
    {
      "cell_type": "code",
      "source": [
        "openai_api_key = getpass.getpass(\"Enter OpenAI API key: \")\n",
        "os.environ['OPENAI_API_KEY'] = openai_api_key\n",
        "openai_client = OpenAI()"
      ],
      "metadata": {
        "colab": {
          "base_uri": "https://localhost:8080/"
        },
        "id": "YqqFRwS7Em8T",
        "outputId": "af644fbd-905f-4d6b-b04b-b557a44b5723"
      },
      "execution_count": 15,
      "outputs": [
        {
          "name": "stdout",
          "output_type": "stream",
          "text": [
            "Enter OpenAI API key: ··········\n"
          ]
        }
      ]
    },
    {
      "cell_type": "code",
      "source": [
        "index_name = \"potteroracle\"\n",
        "\n",
        "model_name=\"text-embedding-3-small\""
      ],
      "metadata": {
        "id": "diA4uRjmFJn4"
      },
      "execution_count": 16,
      "outputs": []
    },
    {
      "cell_type": "code",
      "source": [
        "def data_ingestion(directory: str) -> list:\n",
        "    \"\"\"\n",
        "    Load and split PDF documents into manageable chunks.\n",
        "\n",
        "    Args:\n",
        "    directory (str): The directory containing PDF documents.\n",
        "\n",
        "    Returns:\n",
        "    list: A list of document chunks with cleaned text and metadata.\n",
        "    \"\"\"\n",
        "    loader = PyPDFDirectoryLoader(directory)\n",
        "    documents = loader.load()\n",
        "\n",
        "    text_splitter = RecursiveCharacterTextSplitter(chunk_size=800, chunk_overlap=50)\n",
        "    docs = text_splitter.split_documents(documents)\n",
        "\n",
        "    for i, doc in enumerate(docs):\n",
        "        doc.page_content = doc.page_content.replace(\"\\n\", \" \")\n",
        "        doc.metadata['id'] = f\"chunk_{i}\"\n",
        "        doc.metadata['text'] = doc.page_content\n",
        "    return docs"
      ],
      "metadata": {
        "id": "-0WOq0FbEp-l"
      },
      "execution_count": 17,
      "outputs": []
    },
    {
      "cell_type": "code",
      "source": [
        "document_directory = '/content/drive/MyDrive/Artificial Intelligence/projects/The Oracle of Hogwarts/datasets'\n",
        "\n",
        "# Perform data ingestion and get the processed chunks\n",
        "document_chunks = data_ingestion(directory=document_directory)\n",
        "print(f\"\\n********************* Number of chunks created: {len(document_chunks)} ***************************\")"
      ],
      "metadata": {
        "colab": {
          "base_uri": "https://localhost:8080/"
        },
        "id": "d7hqDassFUo8",
        "outputId": "bc5a5127-ee01-4099-da0a-e089d2861ffc"
      },
      "execution_count": 20,
      "outputs": [
        {
          "output_type": "stream",
          "name": "stdout",
          "text": [
            "\n",
            "********************* Number of chunks created: 9049 ***************************\n"
          ]
        }
      ]
    },
    {
      "cell_type": "code",
      "source": [
        "# Print the first few chunks for verification\n",
        "num_chunks_to_print = 5\n",
        "for i, chunk in enumerate(document_chunks[:num_chunks_to_print]):\n",
        "    print(f\"Chunk {i+1}:\")\n",
        "    print(chunk)\n",
        "    print(\"\\n\" + \"-\"*80 + \"\\n\")"
      ],
      "metadata": {
        "colab": {
          "base_uri": "https://localhost:8080/"
        },
        "id": "Y-txQqDTFXU3",
        "outputId": "c707875d-8c8a-4995-d22a-e9fa632f7418"
      },
      "execution_count": 21,
      "outputs": [
        {
          "output_type": "stream",
          "name": "stdout",
          "text": [
            "Chunk 1:\n",
            "page_content='CHAPTER ONE THE OTHER MINISTER It was nearing midnight and the Prime Minister was sitting alone in his office, reading a long memo that was slipping through his brain without leaving the slightest trace of meanin g behind. He was waiting for a call from the President of a far distant country, and between wondering when the wretched man would telephone, and trying to suppress unpleasant memor ies of what had been a very long, tiring, and difficult week, there was not much space in his head for anything else. The more he attempted to focus on the print on the page before  him, the more clearly the Prime Minister could see the gloating face of one of his political opponents. This particular opponent had appeared on the news that very day, not only to' metadata={'source': '/content/drive/MyDrive/Artificial Intelligence/projects/The Oracle of Hogwarts/datasets/book6.pdf', 'page': 0, 'id': 'chunk_0', 'text': 'CHAPTER ONE THE OTHER MINISTER It was nearing midnight and the Prime Minister was sitting alone in his office, reading a long memo that was slipping through his brain without leaving the slightest trace of meanin g behind. He was waiting for a call from the President of a far distant country, and between wondering when the wretched man would telephone, and trying to suppress unpleasant memor ies of what had been a very long, tiring, and difficult week, there was not much space in his head for anything else. The more he attempted to focus on the print on the page before  him, the more clearly the Prime Minister could see the gloating face of one of his political opponents. This particular opponent had appeared on the news that very day, not only to'}\n",
            "\n",
            "--------------------------------------------------------------------------------\n",
            "\n",
            "Chunk 2:\n",
            "page_content='enumerate all the terrible things that had happened in the last week (as though anyone needed reminding) but also to explain why each and every one of them was the government’s faul t. The Prime Minister’s pulse quickened at the very thought of these accusations, for they were neither fair nor true. How on earth was his government supposed to have stopped that bri dge collapsing? It was outrageous for anybody to suggest that they were not spending enough on bridges. The bridge was fewer than ten years old, and the best experts were at a loss  to explain why it had snapped cleanly in two, sending a dozen cars into the watery depths of the river below. And how dare anyone suggest that it was lack of policemen that had resu' metadata={'source': '/content/drive/MyDrive/Artificial Intelligence/projects/The Oracle of Hogwarts/datasets/book6.pdf', 'page': 0, 'id': 'chunk_1', 'text': 'enumerate all the terrible things that had happened in the last week (as though anyone needed reminding) but also to explain why each and every one of them was the government’s faul t. The Prime Minister’s pulse quickened at the very thought of these accusations, for they were neither fair nor true. How on earth was his government supposed to have stopped that bri dge collapsing? It was outrageous for anybody to suggest that they were not spending enough on bridges. The bridge was fewer than ten years old, and the best experts were at a loss  to explain why it had snapped cleanly in two, sending a dozen cars into the watery depths of the river below. And how dare anyone suggest that it was lack of policemen that had resu'}\n",
            "\n",
            "--------------------------------------------------------------------------------\n",
            "\n",
            "Chunk 3:\n",
            "page_content='lted in those two very nasty and well-publicized murders? Or that the government should have somehow foreseen the freak hurricane in the West Country that had caused so much damage  to both people and property? And was it his fault that one of his Junior Ministers, Herbert Chorley, had chosen this week to act so peculiarly that he was now going to be spending a  lot more time with his family? “A grim mood has gripped the country,” the opponent had concluded, barely concealing his own broad grin. And unfortunately, this was perfectly true. The Prime Minister felt it himself; people really did seem more miserable than usual. Even the weather was dismal; all this chilly mist i n the middle of July. . . . It wasn’t right, it wasn’t normal. . . .' metadata={'source': '/content/drive/MyDrive/Artificial Intelligence/projects/The Oracle of Hogwarts/datasets/book6.pdf', 'page': 0, 'id': 'chunk_2', 'text': 'lted in those two very nasty and well-publicized murders? Or that the government should have somehow foreseen the freak hurricane in the West Country that had caused so much damage  to both people and property? And was it his fault that one of his Junior Ministers, Herbert Chorley, had chosen this week to act so peculiarly that he was now going to be spending a  lot more time with his family? “A grim mood has gripped the country,” the opponent had concluded, barely concealing his own broad grin. And unfortunately, this was perfectly true. The Prime Minister felt it himself; people really did seem more miserable than usual. Even the weather was dismal; all this chilly mist i n the middle of July. . . . It wasn’t right, it wasn’t normal. . . .'}\n",
            "\n",
            "--------------------------------------------------------------------------------\n",
            "\n",
            "Chunk 4:\n",
            "page_content='He turned over the second page of the memo, saw how much longer it went on, and gave it up as a bad job. Stretching his arms above his head he looked around his office mournfully. I t was a handsome room, with a fine marble fireplace facing the long sash windows, firmly closed against the unseasonable chill. With a slight shiver, the Prime Minister got up and m oved over to the window, looking out at the thin mist that was pressing itself against the glass. It was then, as he stood with his back to the room, that he heard a soft cough behi nd him. He froze, nose to nose with his own scared-looking reflection in the dark glass. He knew that cough. He had heard it before. He turned very slowly to face the empty room. “Hello?” he said, trying to sound braver than he felt.' metadata={'source': '/content/drive/MyDrive/Artificial Intelligence/projects/The Oracle of Hogwarts/datasets/book6.pdf', 'page': 0, 'id': 'chunk_3', 'text': 'He turned over the second page of the memo, saw how much longer it went on, and gave it up as a bad job. Stretching his arms above his head he looked around his office mournfully. I t was a handsome room, with a fine marble fireplace facing the long sash windows, firmly closed against the unseasonable chill. With a slight shiver, the Prime Minister got up and m oved over to the window, looking out at the thin mist that was pressing itself against the glass. It was then, as he stood with his back to the room, that he heard a soft cough behi nd him. He froze, nose to nose with his own scared-looking reflection in the dark glass. He knew that cough. He had heard it before. He turned very slowly to face the empty room. “Hello?” he said, trying to sound braver than he felt.'}\n",
            "\n",
            "--------------------------------------------------------------------------------\n",
            "\n",
            "Chunk 5:\n",
            "page_content='For a brief moment he allowed himself the impossible hope that nobody would answer him. However, a voice responded at once, a crisp, decisive voice that sounded as though it were re ading a prepared statement. It was coming — as the Prime Minister had known at the first cough — from the froglike little man wearing a long silver wig who was depicted in a small,  dirty oil painting in the far corner of the room. “To the Prime Minister of Muggles. Urgent we meet. Kindly respond immediately. Sincerely, Fudge.” The man in the painting looked inquiringly at the Prime Minister. “Er,” said the Prime Minister, “listen. . . . It’s not a very good time for me. . . . I’m waiting for a telephone call, you see . . . from the President of —”' metadata={'source': '/content/drive/MyDrive/Artificial Intelligence/projects/The Oracle of Hogwarts/datasets/book6.pdf', 'page': 0, 'id': 'chunk_4', 'text': 'For a brief moment he allowed himself the impossible hope that nobody would answer him. However, a voice responded at once, a crisp, decisive voice that sounded as though it were re ading a prepared statement. It was coming — as the Prime Minister had known at the first cough — from the froglike little man wearing a long silver wig who was depicted in a small,  dirty oil painting in the far corner of the room. “To the Prime Minister of Muggles. Urgent we meet. Kindly respond immediately. Sincerely, Fudge.” The man in the painting looked inquiringly at the Prime Minister. “Er,” said the Prime Minister, “listen. . . . It’s not a very good time for me. . . . I’m waiting for a telephone call, you see . . . from the President of —”'}\n",
            "\n",
            "--------------------------------------------------------------------------------\n",
            "\n"
          ]
        }
      ]
    },
    {
      "cell_type": "code",
      "source": [
        "def create_serverless_index(name: str, dimension: int, metric: str, cloud: str, region: str, api_key: str) -> pinecone:\n",
        "    \"\"\"\n",
        "    Create a serverless Pinecone index.\n",
        "\n",
        "    Args:\n",
        "    name (str): The name of the index.\n",
        "    dimension (int): The dimension of the vectors.\n",
        "    metric (str): The distance metric to use.\n",
        "    cloud (str): The cloud provider.\n",
        "    region (str): The region of the cloud provider.\n",
        "    api_key (str): The API key for Pinecone.\n",
        "\n",
        "    Returns:\n",
        "    pinecone: The Pinecone client instance.\n",
        "    \"\"\"\n",
        "    pinecone_client = pinecone(api_key=api_key)\n",
        "    pinecone_client.create_index(\n",
        "        name=name,\n",
        "        dimension=dimension,\n",
        "        metric=metric,\n",
        "        spec=ServerlessSpec(cloud=cloud, region=region)\n",
        "    )\n",
        "    print(f\"\\n******************* Serverless index '{name}' created successfully. **********************\")\n",
        "    return pinecone_client\n"
      ],
      "metadata": {
        "id": "DGQZPhc-GpaH"
      },
      "execution_count": 22,
      "outputs": []
    },
    {
      "cell_type": "code",
      "source": [
        "# Create the serverless index\n",
        "pinecone_client = create_serverless_index(index_name, 1536, \"cosine\", \"aws\", \"us-east-1\", pinecone_api_key)\n",
        "index = pinecone_client.Index(index_name)"
      ],
      "metadata": {
        "colab": {
          "base_uri": "https://localhost:8080/"
        },
        "id": "9sfmbIakGrQk",
        "outputId": "dacb6549-7498-499d-92f3-8ddf2b5c2528"
      },
      "execution_count": 23,
      "outputs": [
        {
          "output_type": "stream",
          "name": "stdout",
          "text": [
            "\n",
            "******************* Serverless index 'potteroracle' created successfully. **********************\n"
          ]
        }
      ]
    },
    {
      "cell_type": "code",
      "source": [
        "def embed(documents: list[str], model_name: str) -> list[list[float]]:\n",
        "    \"\"\"\n",
        "    Generate embeddings for a list of documents using OpenAI.\n",
        "\n",
        "    Args:\n",
        "    documents (list[str]): A list of documents to embed.\n",
        "    model_name (str): The name of the OpenAI model to use.\n",
        "\n",
        "    Returns:\n",
        "    list[list[float]]: A list of embeddings.\n",
        "    \"\"\"\n",
        "    response = openai_client.embeddings.create(input=documents, model=model_name)\n",
        "    document_embeddings = [result.embedding for result in response.data]\n",
        "    return document_embeddings"
      ],
      "metadata": {
        "id": "lhN6GTpPG1yD"
      },
      "execution_count": 24,
      "outputs": []
    },
    {
      "cell_type": "code",
      "source": [
        "def upsert_chunks_in_batches(chunks: list, batch_size: int, model_name: str) -> None:\n",
        "    \"\"\"\n",
        "    Upsert document chunks into the Pinecone index in batches.\n",
        "\n",
        "    Args:\n",
        "    chunks (list): A list of document chunks.\n",
        "    batch_size (int): The number of chunks to upsert in each batch.\n",
        "    model_name (str): The name of the OpenAI model to use for embedding.\n",
        "\n",
        "    Returns:\n",
        "    None\n",
        "    \"\"\"\n",
        "    for i in tqdm(range(0, len(chunks), batch_size)):\n",
        "        batch_end = min(len(chunks), i + batch_size)\n",
        "        document_batch = chunks[i:batch_end]\n",
        "        embeddings = embed([chunk.page_content for chunk in document_batch], model_name=model_name)\n",
        "        vectors_to_upsert = [(chunk.metadata['id'], embedding, chunk.metadata) for chunk, embedding in zip(document_batch, embeddings)]\n",
        "        index.upsert(vectors=vectors_to_upsert)\n",
        "    print(\"\\n****************** Upsert Operation successful*********************\")"
      ],
      "metadata": {
        "id": "EYi1JO12G5LG"
      },
      "execution_count": 25,
      "outputs": []
    },
    {
      "cell_type": "code",
      "source": [
        "upsert_chunks_in_batches(document_chunks, batch_size=100, model_name=model_name)"
      ],
      "metadata": {
        "colab": {
          "base_uri": "https://localhost:8080/",
          "height": 83,
          "referenced_widgets": [
            "a4d22720191343b4afeab47e79c7530b",
            "dec03853b1764cc2a0682ce9697fa925",
            "8d1275f2017f4b60b4642aa1b4d749ac",
            "1724adb3b52b411993f0941c4c54b970",
            "3abbe8aa2d8947ae84a96e26ae03c08b",
            "ebbe929c557842cc888d95a1eee0c39f",
            "12ad278f7b8a4260a97d64d075271fbe",
            "68f5b821bdb543439024d125b5a616f9",
            "41d023da41224a0a9c00328c3ea01e8c",
            "0e4486bfe1e94ce0a94afdd3a0f919ac",
            "7da81cf3b44e4bdab86de109e2815031"
          ]
        },
        "id": "FCYRCXnVG7v5",
        "outputId": "d8c3904a-e9d6-48d2-93dc-eb83adfaded8"
      },
      "execution_count": 26,
      "outputs": [
        {
          "output_type": "display_data",
          "data": {
            "text/plain": [
              "  0%|          | 0/91 [00:00<?, ?it/s]"
            ],
            "application/vnd.jupyter.widget-view+json": {
              "version_major": 2,
              "version_minor": 0,
              "model_id": "a4d22720191343b4afeab47e79c7530b"
            }
          },
          "metadata": {}
        },
        {
          "output_type": "stream",
          "name": "stdout",
          "text": [
            "\n",
            "****************** Upsert Operation successful*********************\n"
          ]
        }
      ]
    },
    {
      "cell_type": "code",
      "source": [
        "def get_docs(query: str, top_k: int, model_name: str) -> list[str]:\n",
        "    \"\"\"\n",
        "    Retrieve documents matching a query from the Pinecone index.\n",
        "\n",
        "    Args:\n",
        "    query (str): The query string.\n",
        "    top_k (int): The number of top documents to retrieve.\n",
        "\n",
        "    Returns:\n",
        "    list[str]: A list of document texts matching the query.\n",
        "    \"\"\"\n",
        "    print(f\"Getting docs with {index_name}\")\n",
        "    query_embedding = embed([query], model_name=model_name)[0]\n",
        "    results = index.query(vector=query_embedding, top_k=top_k, include_metadata=True)\n",
        "    documents = [result[\"metadata\"]['text'] for result in results[\"matches\"]]\n",
        "    return documents"
      ],
      "metadata": {
        "id": "xtfJBAfcHA6h"
      },
      "execution_count": 27,
      "outputs": []
    },
    {
      "cell_type": "code",
      "source": [
        "def execute_sample_query(query: str, top_k: int, model_name: str) -> None:\n",
        "    \"\"\"\n",
        "    Execute a sample query and print the retrieved documents.\n",
        "\n",
        "    Args:\n",
        "    query (str): The query string.\n",
        "    top_k (int): The number of top documents to retrieve.\n",
        "\n",
        "    Returns:\n",
        "    None\n",
        "    \"\"\"\n",
        "    retrieved_docs = get_docs(query=query, top_k=top_k, model_name=model_name)\n",
        "    print(\">>>\")\n",
        "    for doc in retrieved_docs:\n",
        "        print(doc)\n",
        "        print(\">>>\")"
      ],
      "metadata": {
        "id": "70tY8S1tHCtK"
      },
      "execution_count": 28,
      "outputs": []
    },
    {
      "cell_type": "code",
      "source": [
        "# Execute a sample query\n",
        "execute_sample_query(\n",
        "    query=\"What is the function of the Marauder's Map?\",\n",
        "    top_k=5,\n",
        "    model_name=model_name\n",
        ")"
      ],
      "metadata": {
        "colab": {
          "base_uri": "https://localhost:8080/"
        },
        "id": "9IKjk8EiHEUf",
        "outputId": "27689a9d-354d-44b3-a04b-17d66ac859c4"
      },
      "execution_count": 29,
      "outputs": [
        {
          "output_type": "stream",
          "name": "stdout",
          "text": [
            "Getting docs with potteroracle\n",
            ">>>\n",
            "“What is this thing?” said Moody, drawing the Marauder’s Map out of his pocket and unfolding it.\n",
            ">>>\n",
            "And at once, thin ink lines began to spread like a spider’s web from the point that George’s wand had touched. They joined each other, they crisscrossed, they fanned into every corn er of the parchment; then words began to blossom across the top, great, curly green words, that proclaimed: Messrs. Moony, Wormtail, Padfoot, and ProngsPurveyors of Aids to Magical Mischief-Makersare proud to present THE MARAUDER’S MAP It was a map showing every detail of the Hogwarts castle and grounds. But the truly remarkable thing were the tiny ink dots moving around it, each labeled with a name in minuscule w riting. Astounded, Harry bent over it. A labeled dot in the top left corner showed that Professor Dumbledore was pacing his study; the caretaker’s cat, Mrs. Norris, was prowling the\n",
            ">>>\n",
            "This map was one of those dangerous magical objects Mr. Weasley had been warning against. . . . Aids for Magical Mischief-Makers . . . but then, Harry reasoned, he only wanted to us e it to get into Hogsmeade, it wasn’t as though he wanted to steal anything or attack anyone . . . and Fred and George had been using it for years without anything horrible happenin g. . . . Harry traced the secret passage to Honeydukes with his finger. Then, quite suddenly, as though following orders, he rolled up the map, stuffed it inside his robes, and hurried to the door of the classroom. He opened it a couple of inches. There  was no one outside. Very carefully, he edged out of the room and behind the statue of the one-eyed witch.\n",
            ">>>\n",
            "“The map,” said Lupin. “The Marauder’s Map. I was in my office examining it —” “You know how to work it?” Harry said suspiciously. “Of course I know how to work it,” said Lupin, waving his hand impatiently. “I helped write it. I’m Moony — that was my friends’ nickname for me at school.” “You wrote — ?” “The important thing is, I was watching it carefully this evening, because I had an idea that you, Ron, and Hermione might try and sneak out of the castle to visit Hagrid before his  hippogriff was executed. And I was right, wasn’t I?” He had started to pace up and down, looking at them. Little patches of dust rose at his feet. “You might have been wearing your father’s old Cloak, Harry —” “How d’you know about the Cloak?”\n",
            ">>>\n",
            "the most useful aid to rule-breaking Harry owned. The map showed the whole of Hogwarts, including its many shortcuts and secret passageways and, most important of all, it revealed  the people inside the castle as minuscule, labeled dots, moving around the corridors, so that Harry would be forewarned if somebody was approaching the bathroom. On Thursday night, Harry sneaked up to bed, put on the Cloak, crept back downstairs, and, just as he had done on the night when Hagrid had shown him the dragons, waited for the port rait hole to open. This time it was Ron who waited outside to give the Fat Lady the password (“banana fritters”). “Good luck,” Ron muttered, climbing into the room as Harry crept ou t past him.\n",
            ">>>\n"
          ]
        }
      ]
    }
  ]
}